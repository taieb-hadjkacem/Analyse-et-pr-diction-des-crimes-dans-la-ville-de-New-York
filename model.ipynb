{
  "cells": [
    {
      "cell_type": "markdown",
      "metadata": {
        "id": "0P_P7RN6nBMM"
      },
      "source": [
        "## Importation des données "
      ]
    },
    {
      "cell_type": "code",
      "source": [
        "from google.colab import drive\n",
        "drive.mount('/content/drive')"
      ],
      "metadata": {
        "colab": {
          "base_uri": "https://localhost:8080/"
        },
        "id": "mF8X_lHvnd4L",
        "outputId": "889dd3f9-8d9f-413a-c3c5-029ed0df21ab"
      },
      "execution_count": 1,
      "outputs": [
        {
          "output_type": "stream",
          "name": "stdout",
          "text": [
            "Mounted at /content/drive\n"
          ]
        }
      ]
    },
    {
      "cell_type": "code",
      "execution_count": 2,
      "metadata": {
        "id": "FsoWa0HUnBMV"
      },
      "outputs": [],
      "source": [
        "import pandas as pd \n",
        "import matplotlib.pyplot as plt\n",
        "plt.style.use('classic')\n",
        "import numpy as np\n",
        "import seaborn as sns\n",
        "import datetime \n",
        "import calendar"
      ]
    },
    {
      "cell_type": "code",
      "execution_count": null,
      "metadata": {
        "colab": {
          "base_uri": "https://localhost:8080/"
        },
        "id": "C7ISJ8ZAnBMX",
        "outputId": "46f95209-2b38-47b0-8a56-faecc4bb6cb4"
      },
      "outputs": [
        {
          "output_type": "stream",
          "name": "stderr",
          "text": [
            "/usr/local/lib/python3.7/dist-packages/IPython/core/interactiveshell.py:2718: DtypeWarning: Columns (18,20) have mixed types.Specify dtype option on import or set low_memory=False.\n",
            "  interactivity=interactivity, compiler=compiler, result=result)\n"
          ]
        }
      ],
      "source": [
        "crimes = pd.read_csv(\"/content/drive/MyDrive/NYPD_Complaint_Data_Historic.csv\")\n"
      ]
    },
    {
      "cell_type": "code",
      "source": [
        "def reduce_mem_usage(df, verbose=True):\n",
        "    numerics = ['int16', 'int32', 'int64', 'float16', 'float32', 'float64']\n",
        "    start_mem = df.memory_usage().sum() / 1024**2\n",
        "    for col in df.columns:\n",
        "        col_type = df[col].dtypes\n",
        "        if col_type in numerics:\n",
        "            c_min = df[col].min()\n",
        "            c_max = df[col].max()\n",
        "            if str(col_type)[:3] == 'int':\n",
        "                if c_min > np.iinfo(np.int8).min and c_max < np.iinfo(np.int8).max:\n",
        "                    df[col] = df[col].astype(np.int8)\n",
        "                elif c_min > np.iinfo(np.int16).min and c_max < np.iinfo(np.int16).max:\n",
        "                    df[col] = df[col].astype(np.int16)\n",
        "                elif c_min > np.iinfo(np.int32).min and c_max < np.iinfo(np.int32).max:\n",
        "                    df[col] = df[col].astype(np.int32)\n",
        "                elif c_min > np.iinfo(np.int64).min and c_max < np.iinfo(np.int64).max:\n",
        "                    df[col] = df[col].astype(np.int64)\n",
        "            else:\n",
        "                if c_min > np.finfo(np.float16).min and c_max < np.finfo(np.float16).max:\n",
        "                    df[col] = df[col].astype(np.float16)\n",
        "                elif c_min > np.finfo(np.float32).min and c_max < np.finfo(np.float32).max:\n",
        "                    df[col] = df[col].astype(np.float32)\n",
        "                else:\n",
        "                    df[col] = df[col].astype(np.float64)\n",
        "\n",
        "    end_mem = df.memory_usage().sum() / 1024**2\n",
        "    print('Memory usage after optimization is: {:.2f} MB'.format(end_mem))\n",
        "    print('Decreased by {:.1f}%'.format(100 * (start_mem - end_mem) / start_mem))\n",
        "\n",
        "    return df"
      ],
      "metadata": {
        "id": "vKDGkkkpNRoa"
      },
      "execution_count": 3,
      "outputs": []
    },
    {
      "cell_type": "code",
      "execution_count": null,
      "metadata": {
        "id": "BYIRXFD7nBMY",
        "colab": {
          "base_uri": "https://localhost:8080/"
        },
        "outputId": "507a31ee-7d5f-4815-99eb-1e4f69c95d1a"
      },
      "outputs": [
        {
          "output_type": "stream",
          "name": "stdout",
          "text": [
            "<class 'pandas.core.frame.DataFrame'>\n",
            "RangeIndex: 6983207 entries, 0 to 6983206\n",
            "Data columns (total 35 columns):\n",
            " #   Column             Dtype  \n",
            "---  ------             -----  \n",
            " 0   CMPLNT_NUM         int64  \n",
            " 1   CMPLNT_FR_DT       object \n",
            " 2   CMPLNT_FR_TM       object \n",
            " 3   CMPLNT_TO_DT       object \n",
            " 4   CMPLNT_TO_TM       object \n",
            " 5   ADDR_PCT_CD        float64\n",
            " 6   RPT_DT             object \n",
            " 7   KY_CD              int64  \n",
            " 8   OFNS_DESC          object \n",
            " 9   PD_CD              float64\n",
            " 10  PD_DESC            object \n",
            " 11  CRM_ATPT_CPTD_CD   object \n",
            " 12  LAW_CAT_CD         object \n",
            " 13  BORO_NM            object \n",
            " 14  LOC_OF_OCCUR_DESC  object \n",
            " 15  PREM_TYP_DESC      object \n",
            " 16  JURIS_DESC         object \n",
            " 17  JURISDICTION_CODE  float64\n",
            " 18  PARKS_NM           object \n",
            " 19  HADEVELOPT         object \n",
            " 20  HOUSING_PSA        object \n",
            " 21  X_COORD_CD         float64\n",
            " 22  Y_COORD_CD         float64\n",
            " 23  SUSP_AGE_GROUP     object \n",
            " 24  SUSP_RACE          object \n",
            " 25  SUSP_SEX           object \n",
            " 26  TRANSIT_DISTRICT   float64\n",
            " 27  Latitude           float64\n",
            " 28  Longitude          float64\n",
            " 29  Lat_Lon            object \n",
            " 30  PATROL_BORO        object \n",
            " 31  STATION_NAME       object \n",
            " 32  VIC_AGE_GROUP      object \n",
            " 33  VIC_RACE           object \n",
            " 34  VIC_SEX            object \n",
            "dtypes: float64(8), int64(2), object(25)\n",
            "memory usage: 1.8+ GB\n"
          ]
        }
      ],
      "source": [
        "crimes.info()"
      ]
    },
    {
      "cell_type": "markdown",
      "metadata": {
        "id": "sh56WowhJxZq"
      },
      "source": [
        "## Data cleaning "
      ]
    },
    {
      "cell_type": "markdown",
      "source": [
        "Dealing with NaN data and unused columns\n"
      ],
      "metadata": {
        "id": "JgKNig3RK5Fe"
      }
    },
    {
      "cell_type": "code",
      "source": [
        "(crimes.isna().sum()/crimes.shape[0]*100).sort_values(ascending=False)\n",
        "#on va supprimer les cols avec pourcentage superieure à 60% de lignes vides\n",
        "#on va supprimer les cols qui correspondent au personne Suspecte"
      ],
      "metadata": {
        "colab": {
          "base_uri": "https://localhost:8080/"
        },
        "id": "mO4CeAlROubv",
        "outputId": "27cdd16d-e595-4191-dbd4-cb49ffa55248"
      },
      "execution_count": null,
      "outputs": [
        {
          "output_type": "execute_result",
          "data": {
            "text/plain": [
              "PARKS_NM             99.641311\n",
              "STATION_NAME         97.750546\n",
              "TRANSIT_DISTRICT     97.750546\n",
              "HADEVELOPT           95.044855\n",
              "HOUSING_PSA          92.311427\n",
              "SUSP_AGE_GROUP       67.412766\n",
              "SUSP_SEX             49.724231\n",
              "SUSP_RACE            47.815166\n",
              "CMPLNT_TO_DT         23.891258\n",
              "CMPLNT_TO_TM         23.826145\n",
              "VIC_AGE_GROUP        23.462630\n",
              "LOC_OF_OCCUR_DESC    21.193586\n",
              "PREM_TYP_DESC         0.568965\n",
              "Y_COORD_CD            0.344598\n",
              "Latitude              0.344598\n",
              "Longitude             0.344598\n",
              "Lat_Lon               0.344598\n",
              "X_COORD_CD            0.344598\n",
              "OFNS_DESC             0.269575\n",
              "BORO_NM               0.156003\n",
              "PATROL_BORO           0.090531\n",
              "PD_DESC               0.083987\n",
              "PD_CD                 0.083987\n",
              "JURISDICTION_CODE     0.083987\n",
              "ADDR_PCT_CD           0.031017\n",
              "CMPLNT_FR_DT          0.009380\n",
              "VIC_RACE              0.004411\n",
              "VIC_SEX               0.004396\n",
              "CMPLNT_FR_TM          0.000687\n",
              "CRM_ATPT_CPTD_CD      0.000100\n",
              "RPT_DT                0.000000\n",
              "KY_CD                 0.000000\n",
              "LAW_CAT_CD            0.000000\n",
              "JURIS_DESC            0.000000\n",
              "CMPLNT_NUM            0.000000\n",
              "dtype: float64"
            ]
          },
          "metadata": {},
          "execution_count": 6
        }
      ]
    },
    {
      "cell_type": "code",
      "source": [
        "df=crimes\n",
        "df=reduce_mem_usage(df)"
      ],
      "metadata": {
        "id": "eFHN0YWiV3vy",
        "colab": {
          "base_uri": "https://localhost:8080/"
        },
        "outputId": "d632e0c7-a524-4650-d2b4-910f7be81d1e"
      },
      "execution_count": null,
      "outputs": [
        {
          "output_type": "stream",
          "name": "stdout",
          "text": [
            "Memory usage after optimization is: 1505.09 MB\n",
            "Decreased by 19.3%\n"
          ]
        }
      ]
    },
    {
      "cell_type": "code",
      "source": [
        "#dropping rows with NaN values\n",
        "df.dropna(subset=['PATROL_BORO','ADDR_PCT_CD','Y_COORD_CD','X_COORD_CD','Latitude','Longitude','CRM_ATPT_CPTD_CD','CMPLNT_FR_TM','Lat_Lon','CMPLNT_FR_DT','BORO_NM','OFNS_DESC'], inplace=True)\n",
        "\n",
        "#dropping columns that are not significant for future data exploration\n",
        "df.drop(['PARKS_NM','STATION_NAME','TRANSIT_DISTRICT','HADEVELOPT','HOUSING_PSA'],axis='columns', inplace=True)\n",
        "\n",
        "df.drop(['PREM_TYP_DESC','SUSP_AGE_GROUP','SUSP_SEX','SUSP_RACE','JURISDICTION_CODE'], axis='columns', inplace=True)\n",
        "\n",
        "df.drop(['PD_CD','PD_DESC','CMPLNT_TO_DT','CMPLNT_TO_TM'], axis='columns', inplace=True)\n",
        "\n",
        "#replacing all NaN values in 'LOC_OF_OCCUR_DESC' with UNKNOWN\n",
        "df.fillna({'LOC_OF_OCCUR_DESC':'UNKNOWN'}, inplace=True)\n",
        "\n",
        "#replacing all NaN values in 'VIC_RACE' with UNKNOWN\n",
        "df.fillna({'VIC_RACE':'UNKNOWN'}, inplace=True)\n",
        "\n",
        "#replacing all NaN values in 'VIC_AGE_GROUP' with UNKNOWN\n",
        "df.fillna({'VIC_AGE_GROUP':'UNKNOWN'}, inplace=True)\n",
        "\n",
        "#replacing all NaN values in 'VIC_SEX' with UNKNOWN\n",
        "df.fillna({'VIC_SEX':'UNKNOWN'}, inplace=True)\n",
        "\n",
        "#replacing all NaN values in 'PATROL_BORO' with UNKNOWN\n",
        "df.fillna({'PATROL_BORO':'UNKNOWN'}, inplace=True)\n",
        "print('Clean dataset: ')\n",
        "print(\"Observations: \", df.shape[0])\n",
        "print(\"Variables: \", df.shape[1])\n",
        "\n",
        "#examing the changes\n",
        "df.head(5)"
      ],
      "metadata": {
        "colab": {
          "base_uri": "https://localhost:8080/",
          "height": 548
        },
        "id": "CQ3nJ9tbR2VD",
        "outputId": "23ee98f3-38da-4e1b-f3eb-330e4a576882"
      },
      "execution_count": null,
      "outputs": [
        {
          "output_type": "stream",
          "name": "stdout",
          "text": [
            "Clean dataset: \n",
            "Observations:  6929268\n",
            "Variables:  21\n"
          ]
        },
        {
          "output_type": "execute_result",
          "data": {
            "text/html": [
              "\n",
              "  <div id=\"df-695a16cd-de80-4e48-ba30-8c09294e49f4\">\n",
              "    <div class=\"colab-df-container\">\n",
              "      <div>\n",
              "<style scoped>\n",
              "    .dataframe tbody tr th:only-of-type {\n",
              "        vertical-align: middle;\n",
              "    }\n",
              "\n",
              "    .dataframe tbody tr th {\n",
              "        vertical-align: top;\n",
              "    }\n",
              "\n",
              "    .dataframe thead th {\n",
              "        text-align: right;\n",
              "    }\n",
              "</style>\n",
              "<table border=\"1\" class=\"dataframe\">\n",
              "  <thead>\n",
              "    <tr style=\"text-align: right;\">\n",
              "      <th></th>\n",
              "      <th>CMPLNT_NUM</th>\n",
              "      <th>CMPLNT_FR_DT</th>\n",
              "      <th>CMPLNT_FR_TM</th>\n",
              "      <th>ADDR_PCT_CD</th>\n",
              "      <th>RPT_DT</th>\n",
              "      <th>KY_CD</th>\n",
              "      <th>OFNS_DESC</th>\n",
              "      <th>CRM_ATPT_CPTD_CD</th>\n",
              "      <th>LAW_CAT_CD</th>\n",
              "      <th>BORO_NM</th>\n",
              "      <th>LOC_OF_OCCUR_DESC</th>\n",
              "      <th>JURIS_DESC</th>\n",
              "      <th>X_COORD_CD</th>\n",
              "      <th>Y_COORD_CD</th>\n",
              "      <th>Latitude</th>\n",
              "      <th>Longitude</th>\n",
              "      <th>Lat_Lon</th>\n",
              "      <th>PATROL_BORO</th>\n",
              "      <th>VIC_AGE_GROUP</th>\n",
              "      <th>VIC_RACE</th>\n",
              "      <th>VIC_SEX</th>\n",
              "    </tr>\n",
              "  </thead>\n",
              "  <tbody>\n",
              "    <tr>\n",
              "      <th>0</th>\n",
              "      <td>724718389</td>\n",
              "      <td>09/04/2014</td>\n",
              "      <td>17:25:00</td>\n",
              "      <td>81.0</td>\n",
              "      <td>09/04/2014</td>\n",
              "      <td>344</td>\n",
              "      <td>ASSAULT 3 &amp; RELATED OFFENSES</td>\n",
              "      <td>COMPLETED</td>\n",
              "      <td>MISDEMEANOR</td>\n",
              "      <td>BROOKLYN</td>\n",
              "      <td>OPPOSITE OF</td>\n",
              "      <td>N.Y. POLICE DEPT</td>\n",
              "      <td>1005945.0</td>\n",
              "      <td>188862.0</td>\n",
              "      <td>40.68750</td>\n",
              "      <td>-73.9375</td>\n",
              "      <td>(40.685040958, -73.921776995)</td>\n",
              "      <td>PATROL BORO BKLYN NORTH</td>\n",
              "      <td>25-44</td>\n",
              "      <td>WHITE</td>\n",
              "      <td>F</td>\n",
              "    </tr>\n",
              "    <tr>\n",
              "      <th>1</th>\n",
              "      <td>191133903</td>\n",
              "      <td>10/12/2016</td>\n",
              "      <td>07:40:00</td>\n",
              "      <td>121.0</td>\n",
              "      <td>10/12/2016</td>\n",
              "      <td>109</td>\n",
              "      <td>GRAND LARCENY</td>\n",
              "      <td>COMPLETED</td>\n",
              "      <td>FELONY</td>\n",
              "      <td>STATEN ISLAND</td>\n",
              "      <td>UNKNOWN</td>\n",
              "      <td>N.Y. POLICE DEPT</td>\n",
              "      <td>947034.0</td>\n",
              "      <td>171375.0</td>\n",
              "      <td>40.62500</td>\n",
              "      <td>-74.1250</td>\n",
              "      <td>(40.63699139, -74.134092508)</td>\n",
              "      <td>PATROL BORO STATEN ISLAND</td>\n",
              "      <td>45-64</td>\n",
              "      <td>WHITE HISPANIC</td>\n",
              "      <td>F</td>\n",
              "    </tr>\n",
              "    <tr>\n",
              "      <th>2</th>\n",
              "      <td>720151206</td>\n",
              "      <td>09/28/2012</td>\n",
              "      <td>13:30:00</td>\n",
              "      <td>41.0</td>\n",
              "      <td>10/19/2012</td>\n",
              "      <td>109</td>\n",
              "      <td>GRAND LARCENY</td>\n",
              "      <td>COMPLETED</td>\n",
              "      <td>FELONY</td>\n",
              "      <td>BRONX</td>\n",
              "      <td>FRONT OF</td>\n",
              "      <td>N.Y. POLICE DEPT</td>\n",
              "      <td>1014179.0</td>\n",
              "      <td>239453.0</td>\n",
              "      <td>40.81250</td>\n",
              "      <td>-73.8750</td>\n",
              "      <td>(40.823876276, -73.891862968)</td>\n",
              "      <td>PATROL BORO BRONX</td>\n",
              "      <td>45-64</td>\n",
              "      <td>WHITE HISPANIC</td>\n",
              "      <td>F</td>\n",
              "    </tr>\n",
              "    <tr>\n",
              "      <th>3</th>\n",
              "      <td>232242098</td>\n",
              "      <td>03/24/2015</td>\n",
              "      <td>15:45:00</td>\n",
              "      <td>46.0</td>\n",
              "      <td>03/24/2015</td>\n",
              "      <td>341</td>\n",
              "      <td>PETIT LARCENY</td>\n",
              "      <td>COMPLETED</td>\n",
              "      <td>MISDEMEANOR</td>\n",
              "      <td>BRONX</td>\n",
              "      <td>FRONT OF</td>\n",
              "      <td>N.Y. POLICE DEPT</td>\n",
              "      <td>1009041.0</td>\n",
              "      <td>247401.0</td>\n",
              "      <td>40.84375</td>\n",
              "      <td>-73.9375</td>\n",
              "      <td>(40.845707148, -73.910398033)</td>\n",
              "      <td>PATROL BORO BRONX</td>\n",
              "      <td>&lt;18</td>\n",
              "      <td>WHITE HISPANIC</td>\n",
              "      <td>F</td>\n",
              "    </tr>\n",
              "    <tr>\n",
              "      <th>4</th>\n",
              "      <td>708078702</td>\n",
              "      <td>05/20/2017</td>\n",
              "      <td>04:02:00</td>\n",
              "      <td>109.0</td>\n",
              "      <td>05/20/2017</td>\n",
              "      <td>344</td>\n",
              "      <td>ASSAULT 3 &amp; RELATED OFFENSES</td>\n",
              "      <td>COMPLETED</td>\n",
              "      <td>MISDEMEANOR</td>\n",
              "      <td>QUEENS</td>\n",
              "      <td>FRONT OF</td>\n",
              "      <td>N.Y. POLICE DEPT</td>\n",
              "      <td>1031779.0</td>\n",
              "      <td>217663.0</td>\n",
              "      <td>40.75000</td>\n",
              "      <td>-73.8125</td>\n",
              "      <td>(40.763991557, -73.828425559)</td>\n",
              "      <td>PATROL BORO QUEENS NORTH</td>\n",
              "      <td>25-44</td>\n",
              "      <td>BLACK</td>\n",
              "      <td>M</td>\n",
              "    </tr>\n",
              "  </tbody>\n",
              "</table>\n",
              "</div>\n",
              "      <button class=\"colab-df-convert\" onclick=\"convertToInteractive('df-695a16cd-de80-4e48-ba30-8c09294e49f4')\"\n",
              "              title=\"Convert this dataframe to an interactive table.\"\n",
              "              style=\"display:none;\">\n",
              "        \n",
              "  <svg xmlns=\"http://www.w3.org/2000/svg\" height=\"24px\"viewBox=\"0 0 24 24\"\n",
              "       width=\"24px\">\n",
              "    <path d=\"M0 0h24v24H0V0z\" fill=\"none\"/>\n",
              "    <path d=\"M18.56 5.44l.94 2.06.94-2.06 2.06-.94-2.06-.94-.94-2.06-.94 2.06-2.06.94zm-11 1L8.5 8.5l.94-2.06 2.06-.94-2.06-.94L8.5 2.5l-.94 2.06-2.06.94zm10 10l.94 2.06.94-2.06 2.06-.94-2.06-.94-.94-2.06-.94 2.06-2.06.94z\"/><path d=\"M17.41 7.96l-1.37-1.37c-.4-.4-.92-.59-1.43-.59-.52 0-1.04.2-1.43.59L10.3 9.45l-7.72 7.72c-.78.78-.78 2.05 0 2.83L4 21.41c.39.39.9.59 1.41.59.51 0 1.02-.2 1.41-.59l7.78-7.78 2.81-2.81c.8-.78.8-2.07 0-2.86zM5.41 20L4 18.59l7.72-7.72 1.47 1.35L5.41 20z\"/>\n",
              "  </svg>\n",
              "      </button>\n",
              "      \n",
              "  <style>\n",
              "    .colab-df-container {\n",
              "      display:flex;\n",
              "      flex-wrap:wrap;\n",
              "      gap: 12px;\n",
              "    }\n",
              "\n",
              "    .colab-df-convert {\n",
              "      background-color: #E8F0FE;\n",
              "      border: none;\n",
              "      border-radius: 50%;\n",
              "      cursor: pointer;\n",
              "      display: none;\n",
              "      fill: #1967D2;\n",
              "      height: 32px;\n",
              "      padding: 0 0 0 0;\n",
              "      width: 32px;\n",
              "    }\n",
              "\n",
              "    .colab-df-convert:hover {\n",
              "      background-color: #E2EBFA;\n",
              "      box-shadow: 0px 1px 2px rgba(60, 64, 67, 0.3), 0px 1px 3px 1px rgba(60, 64, 67, 0.15);\n",
              "      fill: #174EA6;\n",
              "    }\n",
              "\n",
              "    [theme=dark] .colab-df-convert {\n",
              "      background-color: #3B4455;\n",
              "      fill: #D2E3FC;\n",
              "    }\n",
              "\n",
              "    [theme=dark] .colab-df-convert:hover {\n",
              "      background-color: #434B5C;\n",
              "      box-shadow: 0px 1px 3px 1px rgba(0, 0, 0, 0.15);\n",
              "      filter: drop-shadow(0px 1px 2px rgba(0, 0, 0, 0.3));\n",
              "      fill: #FFFFFF;\n",
              "    }\n",
              "  </style>\n",
              "\n",
              "      <script>\n",
              "        const buttonEl =\n",
              "          document.querySelector('#df-695a16cd-de80-4e48-ba30-8c09294e49f4 button.colab-df-convert');\n",
              "        buttonEl.style.display =\n",
              "          google.colab.kernel.accessAllowed ? 'block' : 'none';\n",
              "\n",
              "        async function convertToInteractive(key) {\n",
              "          const element = document.querySelector('#df-695a16cd-de80-4e48-ba30-8c09294e49f4');\n",
              "          const dataTable =\n",
              "            await google.colab.kernel.invokeFunction('convertToInteractive',\n",
              "                                                     [key], {});\n",
              "          if (!dataTable) return;\n",
              "\n",
              "          const docLinkHtml = 'Like what you see? Visit the ' +\n",
              "            '<a target=\"_blank\" href=https://colab.research.google.com/notebooks/data_table.ipynb>data table notebook</a>'\n",
              "            + ' to learn more about interactive tables.';\n",
              "          element.innerHTML = '';\n",
              "          dataTable['output_type'] = 'display_data';\n",
              "          await google.colab.output.renderOutput(dataTable, element);\n",
              "          const docLink = document.createElement('div');\n",
              "          docLink.innerHTML = docLinkHtml;\n",
              "          element.appendChild(docLink);\n",
              "        }\n",
              "      </script>\n",
              "    </div>\n",
              "  </div>\n",
              "  "
            ],
            "text/plain": [
              "   CMPLNT_NUM CMPLNT_FR_DT CMPLNT_FR_TM  ...  VIC_AGE_GROUP        VIC_RACE  VIC_SEX\n",
              "0   724718389   09/04/2014     17:25:00  ...          25-44           WHITE        F\n",
              "1   191133903   10/12/2016     07:40:00  ...          45-64  WHITE HISPANIC        F\n",
              "2   720151206   09/28/2012     13:30:00  ...          45-64  WHITE HISPANIC        F\n",
              "3   232242098   03/24/2015     15:45:00  ...            <18  WHITE HISPANIC        F\n",
              "4   708078702   05/20/2017     04:02:00  ...          25-44           BLACK        M\n",
              "\n",
              "[5 rows x 21 columns]"
            ]
          },
          "metadata": {},
          "execution_count": 8
        }
      ]
    },
    {
      "cell_type": "code",
      "source": [
        "df = df.drop(['Lat_Lon', 'CMPLNT_NUM'], axis = 1)"
      ],
      "metadata": {
        "id": "BG-OF6KAIjcw"
      },
      "execution_count": null,
      "outputs": []
    },
    {
      "cell_type": "code",
      "source": [
        "(df.isna().sum()/df.shape[0]*100).sort_values(ascending=False)\n",
        "#df.isna().sum()\n"
      ],
      "metadata": {
        "colab": {
          "base_uri": "https://localhost:8080/"
        },
        "id": "3W-VsWWuI_QX",
        "outputId": "abcba812-d779-4dc9-b31d-fa1ad8ff8f44"
      },
      "execution_count": null,
      "outputs": [
        {
          "output_type": "execute_result",
          "data": {
            "text/plain": [
              "VIC_SEX              0.0\n",
              "BORO_NM              0.0\n",
              "CMPLNT_FR_TM         0.0\n",
              "ADDR_PCT_CD          0.0\n",
              "RPT_DT               0.0\n",
              "KY_CD                0.0\n",
              "OFNS_DESC            0.0\n",
              "CRM_ATPT_CPTD_CD     0.0\n",
              "LAW_CAT_CD           0.0\n",
              "LOC_OF_OCCUR_DESC    0.0\n",
              "VIC_RACE             0.0\n",
              "JURIS_DESC           0.0\n",
              "X_COORD_CD           0.0\n",
              "Y_COORD_CD           0.0\n",
              "Latitude             0.0\n",
              "Longitude            0.0\n",
              "PATROL_BORO          0.0\n",
              "VIC_AGE_GROUP        0.0\n",
              "CMPLNT_FR_DT         0.0\n",
              "dtype: float64"
            ]
          },
          "metadata": {},
          "execution_count": 11
        }
      ]
    },
    {
      "cell_type": "markdown",
      "metadata": {
        "id": "40zKrbSoNiva"
      },
      "source": [
        "## Data structuring"
      ]
    },
    {
      "cell_type": "code",
      "source": [
        "result_month=[]\n",
        "result_year=[]\n",
        "result_day=[]\n",
        "for i in df['CMPLNT_FR_DT']:\n",
        "    month,day,year=i.split('/')\n",
        "    result_month.append(month)\n",
        "    result_year.append(year)\n",
        "    result_day.append(day)\n",
        "df['month']=result_month\n",
        "df['year']=result_year\n",
        "df['day']=result_day\n",
        "\n",
        "\n",
        "L=[\"morning\",\"afternoon\",\"evening\",\"night\"]\n",
        "result=[]\n",
        "for x in df.CMPLNT_FR_TM:\n",
        "        \n",
        "    times=x.split(':')\n",
        "    if int(times[0])>6 and int(times[0])<=12:\n",
        "        result.append(L[0])\n",
        "    elif int(times[0])>12 and int(times[0])<=17:\n",
        "        result.append(L[1])\n",
        "    elif int(times[0])<20:\n",
        "        result.append(L[2])\n",
        "    else : \n",
        "        result.append(L[3])\n",
        "df['time_zone']=result\n",
        "\n",
        "time_zone_mapping ={'afternoon':2, 'morning':1, 'evening':3, 'night':4}\n",
        "df['time_zone']=df['time_zone'].map(time_zone_mapping)\n",
        "\n"
      ],
      "metadata": {
        "id": "yR2o8q5zQY5V"
      },
      "execution_count": null,
      "outputs": []
    },
    {
      "cell_type": "code",
      "source": [
        "df = df.drop(['CMPLNT_FR_DT', 'CMPLNT_FR_TM'], axis = 1)"
      ],
      "metadata": {
        "id": "HJ4Rqb82W68L"
      },
      "execution_count": null,
      "outputs": []
    },
    {
      "cell_type": "code",
      "source": [
        "VIC_AGE_GROUP_mapping ={'25-44':4, '45-64':2, '<18':5, '18-24':3, 'UNKNOWN':0, '65+':1}\n",
        "df['VIC_AGE_GROUP']=df['VIC_AGE_GROUP'].map(VIC_AGE_GROUP_mapping)"
      ],
      "metadata": {
        "id": "Q9yjofV9Z1sJ"
      },
      "execution_count": null,
      "outputs": []
    },
    {
      "cell_type": "code",
      "source": [
        "all_crimes = [\"assualt\",\"grand larency\",\"petit larency\",\n",
        "        \"harrasment\",\"exposed to weapons\",\"criminal crimes\",\"public safty crimes\",\"administrative crimes\",\"vehical crimes\",\n",
        "        \"drugs and alcaholic crimes\",\"theif and robbery \",\"kidnapping\",\"frauds\",\"children crimes\"]\n",
        "df_mapping ={#assualt\n",
        "           'ASSAULT 3 & RELATED OFFENSES':0,'FELONY ASSAULT':0,'OFFENSES AGAINST THE PERSON':0,\n",
        "             #grand larency\n",
        "             'GRAND LARCENY':1, \n",
        "             #petit larency\n",
        "             'PETIT LARCENY':2,'PETIT LARCENY OF MOTOR VEHICLE':2,\n",
        "             #harrasment\n",
        "            'HARRASSMENT 2':3,\n",
        "            #sex crime\n",
        "           'SEX CRIMES':4,'RAPE':4,'PROSTITUTION & RELATED OFFENSES':4,\n",
        "             #exposed to weapons\n",
        "            'DANGEROUS WEAPONS':5, 'BURGLARY':5,\n",
        "             #criminal crimes\n",
        "       'CRIMINAL MISCHIEF & RELATED OF':7,'CRIMINAL TRESPASS':7,\n",
        "        #public safty crimes\n",
        "       'OFF. AGNST PUB ORD SENSBLTY &':9, 'OFFENSES AGAINST PUBLIC SAFETY':9, 'LEWDNESS,PUBLIC':9, 'ARSON':9,'JOSTLING':9, \n",
        "        #administrative crimes\n",
        "       'MISCELLANEOUS PENAL LAW':11, 'OFFENSES AGAINST PUBLIC ADMINI':11,  'ADMINISTRATIVE CODE':11,\n",
        "        #vehical crimes     \n",
        "       'VEHICLE AND TRAFFIC LAWS':13, 'DISORDERLY CONDUCT':13,'HOMICIDE-NEGLIGENT-VEHICLE':13,'UNAUTHORIZED USE OF A VEHICLE':13,'GRAND LARCENY OF MOTOR VEHICLE':13, 'INTOXICATED & IMPAIRED DRIVING':13, \n",
        "        #drugs and alcaholic crimes \n",
        "        'DANGEROUS DRUGS':16,'ALCOHOLIC BEVERAGE CONTROL LAW':16,\n",
        "        #theif and robbery\n",
        "       'OTHER OFFENSES RELATED TO THEF':17,'THEFT-FRAUD':17,'THEFT OF SERVICES':17, 'ROBBERY':17,'POSSESSION OF STOLEN PROPERTY':17,\"BURGLAR'S TOOLS\":17,\n",
        "       #kidnapping\n",
        "       'KIDNAPPING & RELATED OFFENSES':27,\n",
        "        #frauds\n",
        "       'FORGERY':30,'FRAUDULENT ACCOSTING':30, 'FRAUDS':30,'OFFENSES INVOLVING FRAUD':30,\n",
        "         #childern crimes\n",
        "        'OFFENSES RELATED TO CHILDREN':37,'CHILD ABANDONMENT/NON SUPPORT':37,\n",
        "       'AGRICULTURE & MRKTS LAW-UNCLASSIFIED':41,'OTHER STATE LAWS (NON PENAL LA':36,'NYS LAWS-UNCLASSIFIED FELONY':29,'FALSE REPORT UNCLASSIFIED':47,'HOMICIDE-NEGLIGENT,UNCLASSIFIE':52, 'THEFT OF SERVICES, UNCLASSIFIE':54,'LOITERING':43, 'OTHER STATE LAWS':55,'NOISE,UNECESSARY':49, 'TAX LAW':50, 'NYS LAWS-UNCLASSIFIED VIOLATION':51,'ENDAN WELFARE INCOMP':45,'GAMBLING':35}\n",
        "\n",
        "df['OFNS_DESC']=df['OFNS_DESC'].map(df_mapping)\n",
        "df = df[df.OFNS_DESC != 43]\n",
        "df = df[df.OFNS_DESC != 48]\n",
        "df = df[df.OFNS_DESC != 49]\n",
        "df = df[df.OFNS_DESC != 50]\n",
        "df = df[df.OFNS_DESC != 55]\n",
        "df = df[df.OFNS_DESC != 52]\n",
        "df = df[df.OFNS_DESC != 54]\n",
        "df = df[df.OFNS_DESC != 41]\n",
        "df = df[df.OFNS_DESC != 51]\n",
        "df = df[df.OFNS_DESC != 36]\n",
        "df = df[df.OFNS_DESC != 45]\n",
        "df = df[df.OFNS_DESC != 47]\n",
        "df = df[df.OFNS_DESC != 29]\n",
        "df = df[df.OFNS_DESC != 35]"
      ],
      "metadata": {
        "id": "iM-Dek9Lv7Bn"
      },
      "execution_count": null,
      "outputs": []
    },
    {
      "cell_type": "code",
      "source": [
        "df1=df\n",
        "df1 = reduce_mem_usage(df1)"
      ],
      "metadata": {
        "id": "c7OdZzxRcVmh"
      },
      "execution_count": null,
      "outputs": []
    },
    {
      "cell_type": "code",
      "source": [
        "df1 = df1.drop(['CRM_ATPT_CPTD_CD'], axis = 1)"
      ],
      "metadata": {
        "id": "6jSgchFbcVfr"
      },
      "execution_count": null,
      "outputs": []
    },
    {
      "cell_type": "code",
      "source": [
        "df1 = pd.get_dummies(df1,columns=['VIC_SEX'])\n",
        "df1 = pd.get_dummies(df1,columns=['VIC_RACE'])\n",
        "df1 = pd.get_dummies(df1,columns=['PATROL_BORO'])\n",
        "df1 = pd.get_dummies(df1,columns=['BORO_NM'])"
      ],
      "metadata": {
        "id": "V1k8nnHqtFZR"
      },
      "execution_count": null,
      "outputs": []
    },
    {
      "cell_type": "code",
      "source": [
        "df1 = pd.get_dummies(df1,columns=['LOC_OF_OCCUR_DESC'])\n",
        "df1 = df1.drop(['X_COORD_CD','Y_COORD_CD','JURIS_DESC'], axis = 1)"
      ],
      "metadata": {
        "id": "9dXQuCi4ey3S"
      },
      "execution_count": null,
      "outputs": []
    },
    {
      "cell_type": "code",
      "source": [
        "df1.to_csv('/content/drive/MyDrive/crimes.csv', index = False)"
      ],
      "metadata": {
        "id": "4gOO1d2j3aS4"
      },
      "execution_count": null,
      "outputs": []
    },
    {
      "cell_type": "code",
      "source": [
        "df1 = pd.read_csv(\"/content/drive/MyDrive/crimes.csv\")\n",
        "df1 = reduce_mem_usage(df1)"
      ],
      "metadata": {
        "id": "qvKqF8El47Hg",
        "colab": {
          "base_uri": "https://localhost:8080/"
        },
        "outputId": "170223e8-5ece-4287-8ae0-07ac14c322d1"
      },
      "execution_count": 5,
      "outputs": [
        {
          "output_type": "stream",
          "name": "stdout",
          "text": [
            "Memory usage after optimization is: 593.18 MB\n",
            "Decreased by 73.2%\n"
          ]
        }
      ]
    },
    {
      "cell_type": "code",
      "source": [
        "neg_outliers=df1['ADDR_PCT_CD']<=0\n",
        "df1[neg_outliers] = np.nan\n",
        "df1.dropna(subset=['ADDR_PCT_CD'],axis=0,inplace=True)"
      ],
      "metadata": {
        "id": "aWQVOlpogv9S"
      },
      "execution_count": null,
      "outputs": []
    },
    {
      "cell_type": "code",
      "source": [
        "df1 = df1.drop(['RPT_DT'], axis = 1)"
      ],
      "metadata": {
        "id": "BkJUootmE_Qf"
      },
      "execution_count": null,
      "outputs": []
    },
    {
      "cell_type": "code",
      "source": [
        "df1.to_csv('/content/drive/MyDrive/crimes.csv', index = False)"
      ],
      "metadata": {
        "id": "zk_5fO5RRp0J"
      },
      "execution_count": null,
      "outputs": []
    },
    {
      "cell_type": "markdown",
      "metadata": {
        "id": "B_wNVTD8OFtw"
      },
      "source": [
        "## Train model"
      ]
    },
    {
      "cell_type": "code",
      "source": [
        "f=['ADDR_PCT_CD',\n",
        " 'Latitude',\n",
        " 'Longitude',\n",
        " 'VIC_AGE_GROUP',\n",
        " 'month',\n",
        " 'year',\n",
        " 'day',\n",
        " 'time_zone',\n",
        " 'VIC_SEX_D',\n",
        " 'VIC_SEX_E',\n",
        " 'VIC_SEX_F',\n",
        " 'VIC_SEX_M',\n",
        " 'VIC_SEX_UNKNOWN',\n",
        " 'VIC_RACE_AMERICAN INDIAN/ALASKAN NATIVE',\n",
        " 'VIC_RACE_ASIAN / PACIFIC ISLANDER',\n",
        " 'VIC_RACE_BLACK',\n",
        " 'VIC_RACE_BLACK HISPANIC',\n",
        " 'VIC_RACE_OTHER',\n",
        " 'VIC_RACE_UNKNOWN',\n",
        " 'VIC_RACE_WHITE',\n",
        " 'VIC_RACE_WHITE HISPANIC',\n",
        " 'PATROL_BORO_PATROL BORO BKLYN NORTH',\n",
        " 'PATROL_BORO_PATROL BORO BKLYN SOUTH',\n",
        " 'PATROL_BORO_PATROL BORO BRONX',\n",
        " 'PATROL_BORO_PATROL BORO MAN NORTH',\n",
        " 'PATROL_BORO_PATROL BORO MAN SOUTH',\n",
        " 'PATROL_BORO_PATROL BORO QUEENS NORTH',\n",
        " 'PATROL_BORO_PATROL BORO QUEENS SOUTH',\n",
        " 'PATROL_BORO_PATROL BORO STATEN ISLAND',\n",
        " 'BORO_NM_BRONX',\n",
        " 'BORO_NM_BROOKLYN',\n",
        " 'BORO_NM_MANHATTAN',\n",
        " 'BORO_NM_QUEENS',\n",
        " 'BORO_NM_STATEN ISLAND',\n",
        " 'LOC_OF_OCCUR_DESC_FRONT OF',\n",
        " 'LOC_OF_OCCUR_DESC_INSIDE',\n",
        " 'LOC_OF_OCCUR_DESC_OPPOSITE OF',\n",
        " 'LOC_OF_OCCUR_DESC_REAR OF',\n",
        " 'LOC_OF_OCCUR_DESC_BEHIND',\n",
        " 'LOC_OF_OCCUR_DESC_UNKNOWN']"
      ],
      "metadata": {
        "id": "frmwzPxwFOUd"
      },
      "execution_count": 4,
      "outputs": []
    },
    {
      "cell_type": "code",
      "source": [
        "#df.VIC_AGE_GROUP.value_counts()"
      ],
      "metadata": {
        "id": "JPNo0OELvUJ_"
      },
      "execution_count": null,
      "outputs": []
    },
    {
      "cell_type": "code",
      "source": [
        "df1.dropna()\n",
        "df1 = df1.fillna(df1.median())"
      ],
      "metadata": {
        "id": "fUHBotka2nS5"
      },
      "execution_count": 6,
      "outputs": []
    },
    {
      "cell_type": "code",
      "source": [
        "df1.info()"
      ],
      "metadata": {
        "colab": {
          "base_uri": "https://localhost:8080/"
        },
        "id": "nGlBdcsLSjcW",
        "outputId": "449c60b7-4fa4-4bb4-99d2-d76b59492599"
      },
      "execution_count": null,
      "outputs": [
        {
          "output_type": "stream",
          "name": "stdout",
          "text": [
            "<class 'pandas.core.frame.DataFrame'>\n",
            "Int64Index: 6911059 entries, 0 to 6911808\n",
            "Data columns (total 41 columns):\n",
            " #   Column                                   Dtype  \n",
            "---  ------                                   -----  \n",
            " 0   ADDR_PCT_CD                              float64\n",
            " 1   KY_CD                                    float64\n",
            " 2   OFNS_DESC                                float64\n",
            " 3   Latitude                                 float64\n",
            " 4   Longitude                                float64\n",
            " 5   VIC_AGE_GROUP                            float64\n",
            " 6   month                                    float64\n",
            " 7   year                                     float64\n",
            " 8   day                                      float64\n",
            " 9   time_zone                                float64\n",
            " 10  VIC_SEX_D                                float64\n",
            " 11  VIC_SEX_E                                float64\n",
            " 12  VIC_SEX_F                                float64\n",
            " 13  VIC_SEX_M                                float64\n",
            " 14  VIC_SEX_UNKNOWN                          float64\n",
            " 15  VIC_RACE_AMERICAN INDIAN/ALASKAN NATIVE  float64\n",
            " 16  VIC_RACE_ASIAN / PACIFIC ISLANDER        float64\n",
            " 17  VIC_RACE_BLACK                           float64\n",
            " 18  VIC_RACE_BLACK HISPANIC                  float64\n",
            " 19  VIC_RACE_OTHER                           float64\n",
            " 20  VIC_RACE_UNKNOWN                         float64\n",
            " 21  VIC_RACE_WHITE                           float64\n",
            " 22  VIC_RACE_WHITE HISPANIC                  float64\n",
            " 23  PATROL_BORO_PATROL BORO BKLYN NORTH      float64\n",
            " 24  PATROL_BORO_PATROL BORO BKLYN SOUTH      float64\n",
            " 25  PATROL_BORO_PATROL BORO BRONX            float64\n",
            " 26  PATROL_BORO_PATROL BORO MAN NORTH        float64\n",
            " 27  PATROL_BORO_PATROL BORO MAN SOUTH        float64\n",
            " 28  PATROL_BORO_PATROL BORO QUEENS NORTH     float64\n",
            " 29  PATROL_BORO_PATROL BORO QUEENS SOUTH     float64\n",
            " 30  PATROL_BORO_PATROL BORO STATEN ISLAND    float64\n",
            " 31  BORO_NM_BRONX                            float64\n",
            " 32  BORO_NM_BROOKLYN                         float64\n",
            " 33  BORO_NM_MANHATTAN                        float64\n",
            " 34  BORO_NM_QUEENS                           float64\n",
            " 35  BORO_NM_STATEN ISLAND                    float64\n",
            " 36  LOC_OF_OCCUR_DESC_FRONT OF               float64\n",
            " 37  LOC_OF_OCCUR_DESC_INSIDE                 float64\n",
            " 38  LOC_OF_OCCUR_DESC_OPPOSITE OF            float64\n",
            " 39  LOC_OF_OCCUR_DESC_REAR OF                float64\n",
            " 40  LOC_OF_OCCUR_DESC_UNKNOWN                float64\n",
            "dtypes: float64(41)\n",
            "memory usage: 2.2 GB\n"
          ]
        }
      ]
    },
    {
      "cell_type": "code",
      "source": [
        "df1.head()"
      ],
      "metadata": {
        "colab": {
          "base_uri": "https://localhost:8080/",
          "height": 305
        },
        "id": "kJQrNDkxWSiO",
        "outputId": "fda43d15-22e9-4d79-c1ee-5b751f9a3522"
      },
      "execution_count": null,
      "outputs": [
        {
          "output_type": "execute_result",
          "data": {
            "text/html": [
              "\n",
              "  <div id=\"df-f1125d5a-33d6-44fc-89b0-6292dc4a1d59\">\n",
              "    <div class=\"colab-df-container\">\n",
              "      <div>\n",
              "<style scoped>\n",
              "    .dataframe tbody tr th:only-of-type {\n",
              "        vertical-align: middle;\n",
              "    }\n",
              "\n",
              "    .dataframe tbody tr th {\n",
              "        vertical-align: top;\n",
              "    }\n",
              "\n",
              "    .dataframe thead th {\n",
              "        text-align: right;\n",
              "    }\n",
              "</style>\n",
              "<table border=\"1\" class=\"dataframe\">\n",
              "  <thead>\n",
              "    <tr style=\"text-align: right;\">\n",
              "      <th></th>\n",
              "      <th>ADDR_PCT_CD</th>\n",
              "      <th>KY_CD</th>\n",
              "      <th>LAW_CAT_CD</th>\n",
              "      <th>Latitude</th>\n",
              "      <th>Longitude</th>\n",
              "      <th>VIC_AGE_GROUP</th>\n",
              "      <th>month</th>\n",
              "      <th>year</th>\n",
              "      <th>day</th>\n",
              "      <th>time_zone</th>\n",
              "      <th>VIC_SEX_D</th>\n",
              "      <th>VIC_SEX_E</th>\n",
              "      <th>VIC_SEX_F</th>\n",
              "      <th>VIC_SEX_M</th>\n",
              "      <th>VIC_SEX_UNKNOWN</th>\n",
              "      <th>VIC_RACE_AMERICAN INDIAN/ALASKAN NATIVE</th>\n",
              "      <th>VIC_RACE_ASIAN / PACIFIC ISLANDER</th>\n",
              "      <th>VIC_RACE_BLACK</th>\n",
              "      <th>VIC_RACE_BLACK HISPANIC</th>\n",
              "      <th>VIC_RACE_OTHER</th>\n",
              "      <th>VIC_RACE_UNKNOWN</th>\n",
              "      <th>VIC_RACE_WHITE</th>\n",
              "      <th>VIC_RACE_WHITE HISPANIC</th>\n",
              "      <th>PATROL_BORO_PATROL BORO BKLYN NORTH</th>\n",
              "      <th>PATROL_BORO_PATROL BORO BKLYN SOUTH</th>\n",
              "      <th>PATROL_BORO_PATROL BORO BRONX</th>\n",
              "      <th>PATROL_BORO_PATROL BORO MAN NORTH</th>\n",
              "      <th>PATROL_BORO_PATROL BORO MAN SOUTH</th>\n",
              "      <th>PATROL_BORO_PATROL BORO QUEENS NORTH</th>\n",
              "      <th>PATROL_BORO_PATROL BORO QUEENS SOUTH</th>\n",
              "      <th>PATROL_BORO_PATROL BORO STATEN ISLAND</th>\n",
              "      <th>BORO_NM_BRONX</th>\n",
              "      <th>BORO_NM_BROOKLYN</th>\n",
              "      <th>BORO_NM_MANHATTAN</th>\n",
              "      <th>BORO_NM_QUEENS</th>\n",
              "      <th>BORO_NM_STATEN ISLAND</th>\n",
              "      <th>LOC_OF_OCCUR_DESC_FRONT OF</th>\n",
              "      <th>LOC_OF_OCCUR_DESC_INSIDE</th>\n",
              "      <th>LOC_OF_OCCUR_DESC_OPPOSITE OF</th>\n",
              "      <th>LOC_OF_OCCUR_DESC_REAR OF</th>\n",
              "      <th>LOC_OF_OCCUR_DESC_UNKNOWN</th>\n",
              "    </tr>\n",
              "  </thead>\n",
              "  <tbody>\n",
              "    <tr>\n",
              "      <th>0</th>\n",
              "      <td>81.0</td>\n",
              "      <td>344.0</td>\n",
              "      <td>2</td>\n",
              "      <td>40.685041</td>\n",
              "      <td>-73.921777</td>\n",
              "      <td>4.0</td>\n",
              "      <td>9.0</td>\n",
              "      <td>2014.0</td>\n",
              "      <td>4.0</td>\n",
              "      <td>2.0</td>\n",
              "      <td>0.0</td>\n",
              "      <td>0.0</td>\n",
              "      <td>1.0</td>\n",
              "      <td>0.0</td>\n",
              "      <td>0.0</td>\n",
              "      <td>0.0</td>\n",
              "      <td>0.0</td>\n",
              "      <td>0.0</td>\n",
              "      <td>0.0</td>\n",
              "      <td>0.0</td>\n",
              "      <td>0.0</td>\n",
              "      <td>1.0</td>\n",
              "      <td>0.0</td>\n",
              "      <td>1.0</td>\n",
              "      <td>0.0</td>\n",
              "      <td>0.0</td>\n",
              "      <td>0.0</td>\n",
              "      <td>0.0</td>\n",
              "      <td>0.0</td>\n",
              "      <td>0.0</td>\n",
              "      <td>0.0</td>\n",
              "      <td>0.0</td>\n",
              "      <td>1.0</td>\n",
              "      <td>0.0</td>\n",
              "      <td>0.0</td>\n",
              "      <td>0.0</td>\n",
              "      <td>0.0</td>\n",
              "      <td>0.0</td>\n",
              "      <td>1.0</td>\n",
              "      <td>0.0</td>\n",
              "      <td>0.0</td>\n",
              "    </tr>\n",
              "    <tr>\n",
              "      <th>1</th>\n",
              "      <td>121.0</td>\n",
              "      <td>109.0</td>\n",
              "      <td>3</td>\n",
              "      <td>40.636991</td>\n",
              "      <td>-74.134093</td>\n",
              "      <td>2.0</td>\n",
              "      <td>10.0</td>\n",
              "      <td>2016.0</td>\n",
              "      <td>12.0</td>\n",
              "      <td>1.0</td>\n",
              "      <td>0.0</td>\n",
              "      <td>0.0</td>\n",
              "      <td>1.0</td>\n",
              "      <td>0.0</td>\n",
              "      <td>0.0</td>\n",
              "      <td>0.0</td>\n",
              "      <td>0.0</td>\n",
              "      <td>0.0</td>\n",
              "      <td>0.0</td>\n",
              "      <td>0.0</td>\n",
              "      <td>0.0</td>\n",
              "      <td>0.0</td>\n",
              "      <td>1.0</td>\n",
              "      <td>0.0</td>\n",
              "      <td>0.0</td>\n",
              "      <td>0.0</td>\n",
              "      <td>0.0</td>\n",
              "      <td>0.0</td>\n",
              "      <td>0.0</td>\n",
              "      <td>0.0</td>\n",
              "      <td>1.0</td>\n",
              "      <td>0.0</td>\n",
              "      <td>0.0</td>\n",
              "      <td>0.0</td>\n",
              "      <td>0.0</td>\n",
              "      <td>1.0</td>\n",
              "      <td>0.0</td>\n",
              "      <td>0.0</td>\n",
              "      <td>0.0</td>\n",
              "      <td>0.0</td>\n",
              "      <td>1.0</td>\n",
              "    </tr>\n",
              "    <tr>\n",
              "      <th>2</th>\n",
              "      <td>41.0</td>\n",
              "      <td>109.0</td>\n",
              "      <td>3</td>\n",
              "      <td>40.823876</td>\n",
              "      <td>-73.891863</td>\n",
              "      <td>2.0</td>\n",
              "      <td>9.0</td>\n",
              "      <td>2012.0</td>\n",
              "      <td>28.0</td>\n",
              "      <td>2.0</td>\n",
              "      <td>0.0</td>\n",
              "      <td>0.0</td>\n",
              "      <td>1.0</td>\n",
              "      <td>0.0</td>\n",
              "      <td>0.0</td>\n",
              "      <td>0.0</td>\n",
              "      <td>0.0</td>\n",
              "      <td>0.0</td>\n",
              "      <td>0.0</td>\n",
              "      <td>0.0</td>\n",
              "      <td>0.0</td>\n",
              "      <td>0.0</td>\n",
              "      <td>1.0</td>\n",
              "      <td>0.0</td>\n",
              "      <td>0.0</td>\n",
              "      <td>1.0</td>\n",
              "      <td>0.0</td>\n",
              "      <td>0.0</td>\n",
              "      <td>0.0</td>\n",
              "      <td>0.0</td>\n",
              "      <td>0.0</td>\n",
              "      <td>1.0</td>\n",
              "      <td>0.0</td>\n",
              "      <td>0.0</td>\n",
              "      <td>0.0</td>\n",
              "      <td>0.0</td>\n",
              "      <td>1.0</td>\n",
              "      <td>0.0</td>\n",
              "      <td>0.0</td>\n",
              "      <td>0.0</td>\n",
              "      <td>0.0</td>\n",
              "    </tr>\n",
              "    <tr>\n",
              "      <th>3</th>\n",
              "      <td>46.0</td>\n",
              "      <td>341.0</td>\n",
              "      <td>2</td>\n",
              "      <td>40.845707</td>\n",
              "      <td>-73.910398</td>\n",
              "      <td>5.0</td>\n",
              "      <td>3.0</td>\n",
              "      <td>2015.0</td>\n",
              "      <td>24.0</td>\n",
              "      <td>2.0</td>\n",
              "      <td>0.0</td>\n",
              "      <td>0.0</td>\n",
              "      <td>1.0</td>\n",
              "      <td>0.0</td>\n",
              "      <td>0.0</td>\n",
              "      <td>0.0</td>\n",
              "      <td>0.0</td>\n",
              "      <td>0.0</td>\n",
              "      <td>0.0</td>\n",
              "      <td>0.0</td>\n",
              "      <td>0.0</td>\n",
              "      <td>0.0</td>\n",
              "      <td>1.0</td>\n",
              "      <td>0.0</td>\n",
              "      <td>0.0</td>\n",
              "      <td>1.0</td>\n",
              "      <td>0.0</td>\n",
              "      <td>0.0</td>\n",
              "      <td>0.0</td>\n",
              "      <td>0.0</td>\n",
              "      <td>0.0</td>\n",
              "      <td>1.0</td>\n",
              "      <td>0.0</td>\n",
              "      <td>0.0</td>\n",
              "      <td>0.0</td>\n",
              "      <td>0.0</td>\n",
              "      <td>1.0</td>\n",
              "      <td>0.0</td>\n",
              "      <td>0.0</td>\n",
              "      <td>0.0</td>\n",
              "      <td>0.0</td>\n",
              "    </tr>\n",
              "    <tr>\n",
              "      <th>4</th>\n",
              "      <td>109.0</td>\n",
              "      <td>344.0</td>\n",
              "      <td>2</td>\n",
              "      <td>40.763992</td>\n",
              "      <td>-73.828426</td>\n",
              "      <td>4.0</td>\n",
              "      <td>5.0</td>\n",
              "      <td>2017.0</td>\n",
              "      <td>20.0</td>\n",
              "      <td>3.0</td>\n",
              "      <td>0.0</td>\n",
              "      <td>0.0</td>\n",
              "      <td>0.0</td>\n",
              "      <td>1.0</td>\n",
              "      <td>0.0</td>\n",
              "      <td>0.0</td>\n",
              "      <td>0.0</td>\n",
              "      <td>1.0</td>\n",
              "      <td>0.0</td>\n",
              "      <td>0.0</td>\n",
              "      <td>0.0</td>\n",
              "      <td>0.0</td>\n",
              "      <td>0.0</td>\n",
              "      <td>0.0</td>\n",
              "      <td>0.0</td>\n",
              "      <td>0.0</td>\n",
              "      <td>0.0</td>\n",
              "      <td>0.0</td>\n",
              "      <td>1.0</td>\n",
              "      <td>0.0</td>\n",
              "      <td>0.0</td>\n",
              "      <td>0.0</td>\n",
              "      <td>0.0</td>\n",
              "      <td>0.0</td>\n",
              "      <td>1.0</td>\n",
              "      <td>0.0</td>\n",
              "      <td>1.0</td>\n",
              "      <td>0.0</td>\n",
              "      <td>0.0</td>\n",
              "      <td>0.0</td>\n",
              "      <td>0.0</td>\n",
              "    </tr>\n",
              "  </tbody>\n",
              "</table>\n",
              "</div>\n",
              "      <button class=\"colab-df-convert\" onclick=\"convertToInteractive('df-f1125d5a-33d6-44fc-89b0-6292dc4a1d59')\"\n",
              "              title=\"Convert this dataframe to an interactive table.\"\n",
              "              style=\"display:none;\">\n",
              "        \n",
              "  <svg xmlns=\"http://www.w3.org/2000/svg\" height=\"24px\"viewBox=\"0 0 24 24\"\n",
              "       width=\"24px\">\n",
              "    <path d=\"M0 0h24v24H0V0z\" fill=\"none\"/>\n",
              "    <path d=\"M18.56 5.44l.94 2.06.94-2.06 2.06-.94-2.06-.94-.94-2.06-.94 2.06-2.06.94zm-11 1L8.5 8.5l.94-2.06 2.06-.94-2.06-.94L8.5 2.5l-.94 2.06-2.06.94zm10 10l.94 2.06.94-2.06 2.06-.94-2.06-.94-.94-2.06-.94 2.06-2.06.94z\"/><path d=\"M17.41 7.96l-1.37-1.37c-.4-.4-.92-.59-1.43-.59-.52 0-1.04.2-1.43.59L10.3 9.45l-7.72 7.72c-.78.78-.78 2.05 0 2.83L4 21.41c.39.39.9.59 1.41.59.51 0 1.02-.2 1.41-.59l7.78-7.78 2.81-2.81c.8-.78.8-2.07 0-2.86zM5.41 20L4 18.59l7.72-7.72 1.47 1.35L5.41 20z\"/>\n",
              "  </svg>\n",
              "      </button>\n",
              "      \n",
              "  <style>\n",
              "    .colab-df-container {\n",
              "      display:flex;\n",
              "      flex-wrap:wrap;\n",
              "      gap: 12px;\n",
              "    }\n",
              "\n",
              "    .colab-df-convert {\n",
              "      background-color: #E8F0FE;\n",
              "      border: none;\n",
              "      border-radius: 50%;\n",
              "      cursor: pointer;\n",
              "      display: none;\n",
              "      fill: #1967D2;\n",
              "      height: 32px;\n",
              "      padding: 0 0 0 0;\n",
              "      width: 32px;\n",
              "    }\n",
              "\n",
              "    .colab-df-convert:hover {\n",
              "      background-color: #E2EBFA;\n",
              "      box-shadow: 0px 1px 2px rgba(60, 64, 67, 0.3), 0px 1px 3px 1px rgba(60, 64, 67, 0.15);\n",
              "      fill: #174EA6;\n",
              "    }\n",
              "\n",
              "    [theme=dark] .colab-df-convert {\n",
              "      background-color: #3B4455;\n",
              "      fill: #D2E3FC;\n",
              "    }\n",
              "\n",
              "    [theme=dark] .colab-df-convert:hover {\n",
              "      background-color: #434B5C;\n",
              "      box-shadow: 0px 1px 3px 1px rgba(0, 0, 0, 0.15);\n",
              "      filter: drop-shadow(0px 1px 2px rgba(0, 0, 0, 0.3));\n",
              "      fill: #FFFFFF;\n",
              "    }\n",
              "  </style>\n",
              "\n",
              "      <script>\n",
              "        const buttonEl =\n",
              "          document.querySelector('#df-f1125d5a-33d6-44fc-89b0-6292dc4a1d59 button.colab-df-convert');\n",
              "        buttonEl.style.display =\n",
              "          google.colab.kernel.accessAllowed ? 'block' : 'none';\n",
              "\n",
              "        async function convertToInteractive(key) {\n",
              "          const element = document.querySelector('#df-f1125d5a-33d6-44fc-89b0-6292dc4a1d59');\n",
              "          const dataTable =\n",
              "            await google.colab.kernel.invokeFunction('convertToInteractive',\n",
              "                                                     [key], {});\n",
              "          if (!dataTable) return;\n",
              "\n",
              "          const docLinkHtml = 'Like what you see? Visit the ' +\n",
              "            '<a target=\"_blank\" href=https://colab.research.google.com/notebooks/data_table.ipynb>data table notebook</a>'\n",
              "            + ' to learn more about interactive tables.';\n",
              "          element.innerHTML = '';\n",
              "          dataTable['output_type'] = 'display_data';\n",
              "          await google.colab.output.renderOutput(dataTable, element);\n",
              "          const docLink = document.createElement('div');\n",
              "          docLink.innerHTML = docLinkHtml;\n",
              "          element.appendChild(docLink);\n",
              "        }\n",
              "      </script>\n",
              "    </div>\n",
              "  </div>\n",
              "  "
            ],
            "text/plain": [
              "   ADDR_PCT_CD  KY_CD  ...  LOC_OF_OCCUR_DESC_REAR OF  LOC_OF_OCCUR_DESC_UNKNOWN\n",
              "0         81.0  344.0  ...                        0.0                        0.0\n",
              "1        121.0  109.0  ...                        0.0                        1.0\n",
              "2         41.0  109.0  ...                        0.0                        0.0\n",
              "3         46.0  341.0  ...                        0.0                        0.0\n",
              "4        109.0  344.0  ...                        0.0                        0.0\n",
              "\n",
              "[5 rows x 41 columns]"
            ]
          },
          "metadata": {},
          "execution_count": 10
        }
      ]
    },
    {
      "cell_type": "code",
      "source": [
        "from sklearn.model_selection import train_test_split\n",
        "\n",
        "#Split dataset to Training Set & Test Set\n",
        "x, y = train_test_split(df1, \n",
        "                        test_size = 0.2, \n",
        "                        train_size = 0.8, \n",
        "                        random_state= 3)\n",
        "\n",
        "Target= ['OFNS_DESC']\n",
        "\n",
        "x1 = x[f]    #Features to train\n",
        "x2 = x[Target]      #Target Class to train\n",
        "y1 = y[f]    #Features to test\n",
        "y2 = y[Target]      #Target Class to test\n",
        "\n",
        "print('Feature Set Used    : ', f)\n",
        "print('Target Class        : ', Target)\n",
        "print('Training Set Size   : ', x.shape)\n",
        "print('Test Set Size       : ', y.shape)\n",
        "\n",
        "\n",
        "# Random Forest\n",
        "# Create Model with configuration\n",
        "from sklearn.ensemble import RandomForestClassifier,VotingClassifier\n",
        "from sklearn.linear_model import LogisticRegression\n",
        "from sklearn.tree import DecisionTreeClassifier\n",
        "\n",
        "\n",
        "rf_model =RandomForestClassifier(n_estimators=30, # Number of trees\n",
        "                                  min_samples_split = 20,\n",
        "                                  bootstrap = True, \n",
        "                                  max_depth = 50, \n",
        "                                  min_samples_leaf = 25)\n",
        "\n",
        "\n",
        "# Model Training\n",
        "rf_model.fit(X=x1,y=x2.values.ravel())\n",
        "\n",
        "# Prediction\n",
        "result = rf_model.predict(y[f])\n",
        "\n",
        "\n",
        "from sklearn.metrics import precision_score, recall_score, confusion_matrix, classification_report, accuracy_score, f1_score\n",
        "# Model Evaluation\n",
        "ac_sc = accuracy_score(y2.values.ravel(), result)\n",
        "rc_sc = recall_score(y2.values.ravel(), result, average=\"weighted\")\n",
        "pr_sc = precision_score(y2.values.ravel(), result, average=\"weighted\")\n",
        "f1_sc = f1_score(y2.values.ravel(), result, average='micro')\n",
        "confusion_m = confusion_matrix(y2.values.ravel(), result)\n",
        "\n",
        "print(\"========== Random Forest Results ==========\")\n",
        "print(\"Accuracy    : \", ac_sc)\n",
        "print(\"Recall      : \", rc_sc)\n",
        "print(\"Precision   : \", pr_sc)\n",
        "print(\"F1 Score    : \", f1_sc)\n",
        "print(\"Confusion Matrix: \")\n",
        "print(confusion_m)\n"
      ],
      "metadata": {
        "id": "RyRqtUgf3P_h",
        "colab": {
          "base_uri": "https://localhost:8080/"
        },
        "outputId": "de033c02-8863-4b2c-bb56-8901eed78379"
      },
      "execution_count": null,
      "outputs": [
        {
          "metadata": {
            "tags": null
          },
          "name": "stdout",
          "output_type": "stream",
          "text": [
            "Feature Set Used    :  ['ADDR_PCT_CD', 'Latitude', 'Longitude', 'VIC_AGE_GROUP', 'month', 'year', 'day', 'time_zone', 'VIC_SEX_D', 'VIC_SEX_E', 'VIC_SEX_F', 'VIC_SEX_M', 'VIC_SEX_UNKNOWN', 'VIC_RACE_AMERICAN INDIAN/ALASKAN NATIVE', 'VIC_RACE_ASIAN / PACIFIC ISLANDER', 'VIC_RACE_BLACK', 'VIC_RACE_BLACK HISPANIC', 'VIC_RACE_OTHER', 'VIC_RACE_UNKNOWN', 'VIC_RACE_WHITE', 'VIC_RACE_WHITE HISPANIC', 'PATROL_BORO_PATROL BORO BKLYN NORTH', 'PATROL_BORO_PATROL BORO BKLYN SOUTH', 'PATROL_BORO_PATROL BORO BRONX', 'PATROL_BORO_PATROL BORO MAN NORTH', 'PATROL_BORO_PATROL BORO MAN SOUTH', 'PATROL_BORO_PATROL BORO QUEENS NORTH', 'PATROL_BORO_PATROL BORO QUEENS SOUTH', 'PATROL_BORO_PATROL BORO STATEN ISLAND', 'BORO_NM_BRONX', 'BORO_NM_BROOKLYN', 'BORO_NM_MANHATTAN', 'BORO_NM_QUEENS', 'BORO_NM_STATEN ISLAND', 'LOC_OF_OCCUR_DESC_FRONT OF', 'LOC_OF_OCCUR_DESC_INSIDE', 'LOC_OF_OCCUR_DESC_OPPOSITE OF', 'LOC_OF_OCCUR_DESC_REAR OF', 'LOC_OF_OCCUR_DESC_BEHIND', 'LOC_OF_OCCUR_DESC_UNKNOWN']\n",
            "Target Class        :  ['OFNS_DESC']\n",
            "Training Set Size   :  (5528847, 42)\n",
            "Test Set Size       :  (1382212, 42)\n"
          ]
        },
        {
          "output_type": "stream",
          "name": "stderr",
          "text": [
            "/usr/local/lib/python3.7/dist-packages/sklearn/metrics/_classification.py:1308: UndefinedMetricWarning: Precision is ill-defined and being set to 0.0 in labels with no predicted samples. Use `zero_division` parameter to control this behavior.\n",
            "  _warn_prf(average, modifier, msg_start, len(result))\n"
          ]
        },
        {
          "output_type": "stream",
          "name": "stdout",
          "text": [
            "========== Random Forest Results ==========\n",
            "Accuracy    :  0.9060940000520904\n",
            "Recall      :  0.9060940000520904\n",
            "Precision   :  0.9077867474329682\n",
            "F1 Score    :  0.9060940000520904\n",
            "Confusion Matrix: \n",
            "[[191543   2792   1044      3    526   1008   1098     98    668    413\n",
            "    1517    180      0    582      2]\n",
            " [  4033 115860    314      0    174     36     82      0      4    362\n",
            "     171      8      0    142      0]\n",
            " [   294      0 231212      0     20    106     20      0      8    238\n",
            "      13     12      0     25      0]\n",
            " [    16      1     17 174989      2     23     37      5    350      7\n",
            "      17      3      0      8      0]\n",
            " [  3572   1494   1897      0  11361    227    147      2   1297    152\n",
            "     326    576      0     29      0]\n",
            " [  3713   3133    506      0    166  66952    320      0    292    400\n",
            "    3321    159      0     21      0]\n",
            " [  3823   2342   2180      0    120    326 141459     34    757   2505\n",
            "    1481    224      0     33      0]\n",
            " [   372    250    343      3     11     85   1379  71346    963    177\n",
            "    1709     53      0     64      0]\n",
            " [  5668   2767   3161    344    660    976   4025   1845  39522   1399\n",
            "    3831    477      0     99      0]\n",
            " [  4218   1408   2340      7     29     49   1802    189    536  53985\n",
            "     108    410      0     76      1]\n",
            " [   132    215    117      0     28     84    193      0     40     76\n",
            "   82615    144      0      9      7]\n",
            " [  6674   4814   3529      0    310   1227   1292      4    555   1144\n",
            "    1947  55716      0    484      0]\n",
            " [   171    115     69      0     92     10     11      0     67     22\n",
            "       5     10      0      1      0]\n",
            " [   999   2031   2548      0    132    786    996     25   1194    285\n",
            "    2352    686      0  15722      0]\n",
            " [    67      6      7      0     50      7      7      0      3     11\n",
            "     119      0      0      1    132]]\n"
          ]
        }
      ]
    },
    {
      "cell_type": "code",
      "source": [
        "import joblib\n",
        "joblib.dump(rf_model, \"/content/drive/MyDrive/rf_model.h5\")\n"
      ],
      "metadata": {
        "colab": {
          "base_uri": "https://localhost:8080/"
        },
        "id": "JaWI_5Vda-w7",
        "outputId": "546899d5-c184-4f41-8008-a433ae95a778"
      },
      "execution_count": null,
      "outputs": [
        {
          "output_type": "execute_result",
          "data": {
            "text/plain": [
              "['/content/drive/MyDrive/rf_model.h5']"
            ]
          },
          "metadata": {},
          "execution_count": 15
        }
      ]
    },
    {
      "cell_type": "code",
      "source": [
        "model = joblib.load(\"/content/drive/MyDrive/rf_model.h5\")\n"
      ],
      "metadata": {
        "id": "1JsYlUx8p5k3"
      },
      "execution_count": null,
      "outputs": []
    },
    {
      "cell_type": "code",
      "source": [
        "a=y[f].iloc[[1,2]]\n",
        "result = model.predict_proba(a)"
      ],
      "metadata": {
        "id": "tfI0qmw3p-mi"
      },
      "execution_count": null,
      "outputs": []
    },
    {
      "cell_type": "code",
      "source": [
        "result"
      ],
      "metadata": {
        "colab": {
          "base_uri": "https://localhost:8080/"
        },
        "id": "OHCZ9lDorSqs",
        "outputId": "7f2d9e7d-06c0-4781-d4f6-ccfc800e4d88"
      },
      "execution_count": null,
      "outputs": [
        {
          "output_type": "execute_result",
          "data": {
            "text/plain": [
              "array([[4.77162413e-02, 2.21079652e-02, 1.87192044e-02, 7.17846897e-03,\n",
              "        6.29678697e-03, 1.50922936e-02, 1.09652815e-02, 8.36158841e-01,\n",
              "        2.65091301e-02, 1.08680366e-03, 3.15941986e-05, 6.54937140e-03,\n",
              "        6.60009373e-05, 1.51801222e-03, 4.00438897e-06],\n",
              "       [1.45730261e-01, 2.09484313e-01, 4.35914484e-02, 8.36702408e-03,\n",
              "        1.12518834e-02, 4.59933073e-01, 1.77615754e-02, 9.43476792e-03,\n",
              "        4.13986425e-02, 2.73510082e-04, 2.27626212e-05, 3.67822992e-02,\n",
              "        4.15839806e-05, 1.59216707e-02, 5.18483953e-06]])"
            ]
          },
          "metadata": {},
          "execution_count": 39
        }
      ]
    },
    {
      "cell_type": "code",
      "source": [
        "#df1.to_csv('/content/drive/MyDrive/crimes.csv', index = False)"
      ],
      "metadata": {
        "id": "IhlhlPaYwCAs"
      },
      "execution_count": null,
      "outputs": []
    },
    {
      "cell_type": "code",
      "source": [
        "import seaborn as sns\n",
        "confusion_m = confusion_matrix(y2.values.ravel(), rf_model.predict(y[f]))\n",
        "\n",
        "plt.figure(figsize=(10,10))\n",
        "\n",
        "sns.heatmap(confusion_m, square=True, annot=True, fmt='d', cbar=False,xticklabels=all_crimes,yticklabels=all_crimes)\n",
        "plt.xlabel('True label')\n",
        "plt.ylabel('predicted label')\n",
        "plt.title('Random forest')"
      ],
      "metadata": {
        "id": "EohRB5YHsDIa",
        "colab": {
          "base_uri": "https://localhost:8080/",
          "height": 890
        },
        "outputId": "7be55d19-d419-4de6-d3d4-1308a6946a9e"
      },
      "execution_count": null,
      "outputs": [
        {
          "output_type": "execute_result",
          "data": {
            "text/plain": [
              "Text(0.5, 1.0, 'Random forest')"
            ]
          },
          "metadata": {},
          "execution_count": 48
        },
        {
          "output_type": "display_data",
          "data": {
            "image/png": "[encoded data removed]",
            "text/plain": [
              "<Figure size 800x800 with 1 Axes>"
            ]
          },
          "metadata": {}
        }
      ]
    },
    {
      "cell_type": "code",
      "source": [
        "# Import DecisionTreeClassifier from sklearn.tree\n",
        "from sklearn.tree import DecisionTreeClassifier\n",
        "\n",
        "# Import RandomForestClassifier\n",
        "from sklearn.ensemble import RandomForestClassifier\n",
        "\n",
        "# Import LogisticRegression\n",
        "from sklearn.linear_model import LogisticRegression"
      ],
      "metadata": {
        "id": "Z-bO0edgF2gc"
      },
      "execution_count": 7,
      "outputs": []
    },
    {
      "cell_type": "code",
      "source": [
        "accuracy_lst=[]\n",
        "algo_lst=['Random Forest','Logistic Regression','Decision Trees']"
      ],
      "metadata": {
        "id": "LAUMBmG3FzYr"
      },
      "execution_count": 16,
      "outputs": []
    },
    {
      "cell_type": "code",
      "source": [
        "from sklearn.model_selection import train_test_split\n",
        "\n",
        "#Split dataset to Training Set & Test Set\n",
        "x, y = train_test_split(df1, \n",
        "                        test_size = 0.2, \n",
        "                        train_size = 0.8, \n",
        "                        random_state= 3)\n",
        "\n",
        "Target= ['OFNS_DESC']\n",
        "\n",
        "x1 = x[f]    #Features to train\n",
        "x2 = x[Target]      #Target Class to train\n",
        "y1 = y[f]    #Features to test\n",
        "y2 = y[Target]      #Target Class to test\n",
        "\n",
        "print('Feature Set Used    : ', f)\n",
        "print('Target Class        : ', Target)\n",
        "print('Training Set Size   : ', x.shape)\n",
        "print('Test Set Size       : ', y.shape)\n",
        "\n",
        "\n",
        "# Random Forest\n",
        "# Create Model with configuration\n",
        "from sklearn.ensemble import RandomForestClassifier,VotingClassifier\n",
        "from sklearn.linear_model import LogisticRegression\n",
        "from sklearn.tree import DecisionTreeClassifier\n",
        "\n",
        "\n",
        "rf_model =RandomForestClassifier(n_estimators=30, # Number of trees\n",
        "                                  min_samples_split = 20,\n",
        "                                  bootstrap = True, \n",
        "                                  max_depth = 50, \n",
        "                                  min_samples_leaf = 25)\n",
        "\n",
        "\n",
        "# Model Training\n",
        "rf_model.fit(X=x1,y=x2.values.ravel())\n",
        "\n",
        "# Prediction\n",
        "result = rf_model.predict(y[f])\n",
        "ac_sc = accuracy_score(y2.values.ravel(), result)\n",
        "accuracy_lst.append(ac_sc)\n"
      ],
      "metadata": {
        "colab": {
          "base_uri": "https://localhost:8080/"
        },
        "id": "A75tLwlNF401",
        "outputId": "33bb939e-b4c4-40b9-f2c3-85f32995c116"
      },
      "execution_count": 9,
      "outputs": [
        {
          "output_type": "stream",
          "name": "stdout",
          "text": [
            "Feature Set Used    :  ['ADDR_PCT_CD', 'Latitude', 'Longitude', 'VIC_AGE_GROUP', 'month', 'year', 'day', 'time_zone', 'VIC_SEX_D', 'VIC_SEX_E', 'VIC_SEX_F', 'VIC_SEX_M', 'VIC_SEX_UNKNOWN', 'VIC_RACE_AMERICAN INDIAN/ALASKAN NATIVE', 'VIC_RACE_ASIAN / PACIFIC ISLANDER', 'VIC_RACE_BLACK', 'VIC_RACE_BLACK HISPANIC', 'VIC_RACE_OTHER', 'VIC_RACE_UNKNOWN', 'VIC_RACE_WHITE', 'VIC_RACE_WHITE HISPANIC', 'PATROL_BORO_PATROL BORO BKLYN NORTH', 'PATROL_BORO_PATROL BORO BKLYN SOUTH', 'PATROL_BORO_PATROL BORO BRONX', 'PATROL_BORO_PATROL BORO MAN NORTH', 'PATROL_BORO_PATROL BORO MAN SOUTH', 'PATROL_BORO_PATROL BORO QUEENS NORTH', 'PATROL_BORO_PATROL BORO QUEENS SOUTH', 'PATROL_BORO_PATROL BORO STATEN ISLAND', 'BORO_NM_BRONX', 'BORO_NM_BROOKLYN', 'BORO_NM_MANHATTAN', 'BORO_NM_QUEENS', 'BORO_NM_STATEN ISLAND', 'LOC_OF_OCCUR_DESC_FRONT OF', 'LOC_OF_OCCUR_DESC_INSIDE', 'LOC_OF_OCCUR_DESC_OPPOSITE OF', 'LOC_OF_OCCUR_DESC_REAR OF', 'LOC_OF_OCCUR_DESC_BEHIND', 'LOC_OF_OCCUR_DESC_UNKNOWN']\n",
            "Target Class        :  ['OFNS_DESC']\n",
            "Training Set Size   :  (5528847, 42)\n",
            "Test Set Size       :  (1382212, 42)\n"
          ]
        }
      ]
    },
    {
      "cell_type": "code",
      "source": [
        "# Logistic regression\n",
        "lr = LogisticRegression(random_state=0)\n",
        "lr.fit(X=x1,y=x2.values.ravel())\n",
        "y_pred=lr.predict(y[f])\n",
        "\n",
        "# Get the accuracy score\n",
        "acc_lr=accuracy_score(y2.values.ravel(), y_pred)\n",
        "\n",
        "# Append to the accuracy list\n",
        "accuracy_lst.append(acc_lr)\n",
        "\n",
        "print(\"[Logistic regression algorithm] accuracy_score: {:.3f}.\".format(acc_lr))"
      ],
      "metadata": {
        "colab": {
          "base_uri": "https://localhost:8080/"
        },
        "id": "Ahi1RH2FF8Z7",
        "outputId": "6f2b7ada-7ffa-47ca-d107-6e775280255e"
      },
      "execution_count": 10,
      "outputs": [
        {
          "output_type": "stream",
          "name": "stderr",
          "text": [
            "/usr/local/lib/python3.7/dist-packages/sklearn/linear_model/_logistic.py:818: ConvergenceWarning: lbfgs failed to converge (status=1):\n",
            "STOP: TOTAL NO. of ITERATIONS REACHED LIMIT.\n",
            "\n",
            "Increase the number of iterations (max_iter) or scale the data as shown in:\n",
            "    https://scikit-learn.org/stable/modules/preprocessing.html\n",
            "Please also refer to the documentation for alternative solver options:\n",
            "    https://scikit-learn.org/stable/modules/linear_model.html#logistic-regression\n",
            "  extra_warning_msg=_LOGISTIC_SOLVER_CONVERGENCE_MSG,\n"
          ]
        },
        {
          "output_type": "stream",
          "name": "stdout",
          "text": [
            "[Logistic regression algorithm] accuracy_score: 0.380.\n"
          ]
        }
      ]
    },
    {
      "cell_type": "code",
      "source": [
        "# Decision tree algorithm\n",
        "\n",
        "\n",
        "dt_gini = DecisionTreeClassifier(max_depth=6, criterion='gini', random_state=1)\n",
        "dt_gini.fit(X=x1,y=x2.values.ravel())\n",
        "y_pred= dt_gini.predict(y[f])\n",
        "accuracy_gini = accuracy_score(y2.values.ravel(), y_pred)\n",
        "accuracy_lst.append(accuracy_gini)\n",
        "\n",
        "# Print accuracy_gini\n",
        "print('[Decision Tree -- gini] accuracy_score: {:.3f}.'.format(accuracy_gini))"
      ],
      "metadata": {
        "colab": {
          "base_uri": "https://localhost:8080/"
        },
        "id": "SMtUGHCLF-3C",
        "outputId": "f4583283-6f0b-4727-8354-79d38750078a"
      },
      "execution_count": 15,
      "outputs": [
        {
          "output_type": "stream",
          "name": "stdout",
          "text": [
            "[Decision Tree -- entropy] accuracy_score: 0.963.\n",
            "[Decision Tree -- gini] accuracy_score: 0.889.\n"
          ]
        }
      ]
    },
    {
      "cell_type": "code",
      "source": [
        "# Make a plot of the accuracy scores for different algorithms\n",
        "\n",
        "# Generate a list of ticks for y-axis\n",
        "y_ticks=np.arange(len(algo_lst))\n",
        "\n",
        "# Combine the list of algorithms and list of accuracy scores into a dataframe, sort the value based on accuracy score\n",
        "df_acc=pd.DataFrame(list(zip(algo_lst, accuracy_lst)), columns=['Algorithm','Accuracy_Score']).sort_values(by=['Accuracy_Score'],ascending = True)\n",
        "\n",
        "\n",
        "# Make a plot\n",
        "ax=df_acc.plot.barh('Algorithm', 'Accuracy_Score', align='center',legend=False,color='0.5')\n",
        "\n",
        "# Add the data label on to the plot\n",
        "for i in ax.patches:\n",
        "    # get_width pulls left or right; get_y pushes up or down\n",
        "    ax.text(i.get_width()+0.02, i.get_y()+0.2, str(round(i.get_width(),3)), fontsize=10)\n",
        "\n",
        "# Set the limit, lables, ticks and title\n",
        "state='NY'\n",
        "plt.xlim(0,1.05)\n",
        "plt.xlabel('Accuracy Score')\n",
        "plt.yticks(y_ticks, df_acc['Algorithm'], rotation=0)\n",
        "plt.title('[{}] Which algorithm is better?'.format(state))\n",
        "\n",
        "plt.show()"
      ],
      "metadata": {
        "colab": {
          "base_uri": "https://localhost:8080/",
          "height": 306
        },
        "id": "Q-uPDZVQGFt1",
        "outputId": "84096098-5738-4756-c983-2d94a834834e"
      },
      "execution_count": 20,
      "outputs": [
        {
          "output_type": "display_data",
          "data": {
            "image/png": "[encoded data removed]",
            "text/plain": [
              "<Figure size 432x288 with 1 Axes>"
            ]
          },
          "metadata": {}
        }
      ]
    }
  ],
  "metadata": {
    "kernelspec": {
      "display_name": "Python 3",
      "language": "python",
      "name": "python3"
    },
    "language_info": {
      "codemirror_mode": {
        "name": "ipython",
        "version": 3
      },
      "file_extension": ".py",
      "mimetype": "text/x-python",
      "name": "python",
      "nbconvert_exporter": "python",
      "pygments_lexer": "ipython3",
      "version": "3.8.3"
    },
    "colab": {
      "name": "crimes_modeling.ipynb",
      "provenance": [],
      "collapsed_sections": []
    },
    "accelerator": "GPU"
  },
  "nbformat": 4,
  "nbformat_minor": 0
}